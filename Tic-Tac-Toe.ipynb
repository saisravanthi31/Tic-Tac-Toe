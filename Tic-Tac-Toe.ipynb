{
 "cells": [
  {
   "cell_type": "code",
   "execution_count": 1,
   "id": "ad366ef0-8b4e-4f8a-a766-5e3c07224735",
   "metadata": {},
   "outputs": [],
   "source": [
    "# Tic-Tac-Toe board representation\n",
    "board = [' ' for x in range(10)]  # We use 10 to ignore index 0 for easy play\n",
    "\n",
    "# Function to print the board\n",
    "def print_board(board):\n",
    "    print(\"   |   |\")\n",
    "    print(f\" {board[1]} | {board[2]} | {board[3]}\")\n",
    "    print(\"___|___|___\")\n",
    "    print(\"   |   |\")\n",
    "    print(f\" {board[4]} | {board[5]} | {board[6]}\")\n",
    "    print(\"___|___|___\")\n",
    "    print(\"   |   |\")\n",
    "    print(f\" {board[7]} | {board[8]} | {board[9]}\")\n",
    "    print(\"   |   |\")"
   ]
  },
  {
   "cell_type": "code",
   "execution_count": 3,
   "id": "4cdcab51-438b-443f-8b99-438046f991a0",
   "metadata": {},
   "outputs": [],
   "source": [
    "# Function to check if a player has won\n",
    "def is_winner(board, letter):\n",
    "    return (\n",
    "        (board[1] == board[2] == board[3] == letter) or  # Top row\n",
    "        (board[4] == board[5] == board[6] == letter) or  # Middle row\n",
    "        (board[7] == board[8] == board[9] == letter) or  # Bottom row\n",
    "        (board[1] == board[4] == board[7] == letter) or  # Left column\n",
    "        (board[2] == board[5] == board[8] == letter) or  # Middle column\n",
    "        (board[3] == board[6] == board[9] == letter) or  # Right column\n",
    "        (board[1] == board[5] == board[9] == letter) or  # Diagonal\n",
    "        (board[3] == board[5] == board[7] == letter)     # Diagonal\n",
    "    )"
   ]
  },
  {
   "cell_type": "code",
   "execution_count": 5,
   "id": "0a291d90-718f-441e-99e4-83c61ac84d41",
   "metadata": {},
   "outputs": [],
   "source": [
    "# Function to check if the board is full\n",
    "def is_board_full(board):\n",
    "    return ' ' not in board[1:]  # Ignore index 0"
   ]
  },
  {
   "cell_type": "code",
   "execution_count": 7,
   "id": "41f1ba1b-69e2-442c-9731-df82ce1bf68d",
   "metadata": {},
   "outputs": [],
   "source": [
    "# Function to insert 'X' or 'O' on the board\n",
    "def insert_letter(letter, pos):\n",
    "    if board[pos] == ' ':\n",
    "        board[pos] = letter\n",
    "        print_board(board)\n",
    "        if is_winner(board, letter):\n",
    "            print(f\"\\nPlayer {letter} wins!\")\n",
    "            return True\n",
    "        if is_board_full(board):\n",
    "            print(\"\\nIt's a tie!\")\n",
    "            return True\n",
    "        return False\n",
    "    else:\n",
    "        print(\"Position is already occupied!\")\n",
    "        return False"
   ]
  },
  {
   "cell_type": "code",
   "execution_count": 9,
   "id": "d3c9fc9e-deab-4dd4-aa4d-b0ef2bbb9411",
   "metadata": {},
   "outputs": [],
   "source": [
    "# Function to handle player's move\n",
    "def player_move():\n",
    "    run = True\n",
    "    while run:\n",
    "        move = input(\"\\nSelect a position to place your 'X' (1-9): \")\n",
    "        try:\n",
    "            move = int(move)\n",
    "            if 1 <= move <= 9:\n",
    "                if not insert_letter('X', move):\n",
    "                    run = False\n",
    "            else:\n",
    "                print(\"Invalid input. Please choose a number between 1-9.\")\n",
    "        except:\n",
    "            print(\"Please enter a valid number.\")"
   ]
  },
  {
   "cell_type": "code",
   "execution_count": 11,
   "id": "24df990c-3b59-443d-bbb4-2cc8352e0760",
   "metadata": {},
   "outputs": [],
   "source": [
    "import random\n",
    "\n",
    "# Function to handle computer's move\n",
    "def comp_move():\n",
    "    possible_moves = [x for x, letter in enumerate(board) if letter == ' ' and x != 0]\n",
    "    move = 0\n",
    "    \n",
    "    # Check if the computer can win\n",
    "    for letter in ['O', 'X']:\n",
    "        for i in possible_moves:\n",
    "            board_copy = board[:]\n",
    "            board_copy[i] = letter\n",
    "            if is_winner(board_copy, letter):\n",
    "                move = i\n",
    "                return insert_letter('O', move)\n",
    "    \n",
    "    # Take the center if available\n",
    "    if 5 in possible_moves:\n",
    "        move = 5\n",
    "        return insert_letter('O', move)\n",
    "    \n",
    "    # Take any corner\n",
    "    corners = [x for x in possible_moves if x in [1, 3, 7, 9]]\n",
    "    if len(corners) > 0:\n",
    "        move = random.choice(corners)\n",
    "        return insert_letter('O', move)\n",
    "    \n",
    "    # Take any edge\n",
    "    edges = [x for x in possible_moves if x in [2, 4, 6, 8]]\n",
    "    if len(edges) > 0:\n",
    "        move = random.choice(edges)\n",
    "        return insert_letter('O', move)"
   ]
  },
  {
   "cell_type": "code",
   "execution_count": 17,
   "id": "f923b942-a978-4408-82e7-d4bf460a27b2",
   "metadata": {},
   "outputs": [
    {
     "name": "stdout",
     "output_type": "stream",
     "text": [
      "Welcome to Tic-Tac-Toe!\n",
      "   |   |\n",
      " X | O | O\n",
      "___|___|___\n",
      "   |   |\n",
      "   | X | O\n",
      "___|___|___\n",
      "   |   |\n",
      " X |   | O\n",
      "   |   |\n"
     ]
    },
    {
     "name": "stdin",
     "output_type": "stream",
     "text": [
      "\n",
      "Select a position to place your 'X' (1-9):  4\n"
     ]
    },
    {
     "name": "stdout",
     "output_type": "stream",
     "text": [
      "   |   |\n",
      " X | O | O\n",
      "___|___|___\n",
      "   |   |\n",
      " X | X | O\n",
      "___|___|___\n",
      "   |   |\n",
      " X |   | O\n",
      "   |   |\n",
      "\n",
      "Player X wins!\n"
     ]
    },
    {
     "name": "stdin",
     "output_type": "stream",
     "text": [
      "\n",
      "Select a position to place your 'X' (1-9):  8\n"
     ]
    },
    {
     "name": "stdout",
     "output_type": "stream",
     "text": [
      "   |   |\n",
      " X | O | O\n",
      "___|___|___\n",
      "   |   |\n",
      " X | X | O\n",
      "___|___|___\n",
      "   |   |\n",
      " X | X | O\n",
      "   |   |\n",
      "\n",
      "Player X wins!\n"
     ]
    },
    {
     "name": "stdin",
     "output_type": "stream",
     "text": [
      "\n",
      "Select a position to place your 'X' (1-9):  1\n"
     ]
    },
    {
     "name": "stdout",
     "output_type": "stream",
     "text": [
      "Position is already occupied!\n"
     ]
    }
   ],
   "source": [
    "# Main game loop\n",
    "def play_game():\n",
    "    print(\"Welcome to Tic-Tac-Toe!\")\n",
    "    print_board(board)\n",
    "    \n",
    "    while not is_board_full(board):\n",
    "        if not player_move():\n",
    "            if is_board_full(board):\n",
    "                break\n",
    "            print(\"\\nComputer's turn...\")\n",
    "            if comp_move():\n",
    "                break\n",
    "\n",
    "play_game()"
   ]
  }
 ],
 "metadata": {
  "kernelspec": {
   "display_name": "Python 3 (ipykernel)",
   "language": "python",
   "name": "python3"
  },
  "language_info": {
   "codemirror_mode": {
    "name": "ipython",
    "version": 3
   },
   "file_extension": ".py",
   "mimetype": "text/x-python",
   "name": "python",
   "nbconvert_exporter": "python",
   "pygments_lexer": "ipython3",
   "version": "3.12.4"
  }
 },
 "nbformat": 4,
 "nbformat_minor": 5
}
